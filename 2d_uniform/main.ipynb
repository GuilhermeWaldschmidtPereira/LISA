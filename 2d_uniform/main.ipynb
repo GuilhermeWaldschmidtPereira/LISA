{
 "cells": [
  {
   "cell_type": "code",
   "execution_count": 5,
   "metadata": {},
   "outputs": [
    {
     "name": "stdout",
     "output_type": "stream",
     "text": [
      "Arquivo salvo em: data/2d_uniform_data_0.npy\n",
      "Arquivo salvo em: data/2d_uniform_data_1.npy\n",
      "Arquivo salvo em: data/2d_uniform_data_2.npy\n",
      "Arquivo salvo em: data/2d_uniform_data_3.npy\n",
      "File not found: data/cell_params.npy\n",
      "File not found: data/col_split_idxes.npy\n",
      "File not found: data/one_dim_mappings.npy\n"
     ]
    }
   ],
   "source": [
    "import numpy as np\n",
    "import os\n",
    "import glob\n",
    "import shutil\n",
    "\n",
    "\n",
    "# Configuração\n",
    "num_points = 100\n",
    "for i in range (0,4):\n",
    "    latitude_values = np.linspace(1000.0, 20000.0, num_points)  # Valores de latitude (entre 10 e 14000)\n",
    "    longitude_values = np.linspace(400.0, 8000.5, num_points)  # Valores de longitude (entre 20 e 24000.5)\n",
    "\n",
    "    # Combinar em um array 2D (cada linha contém [latitude, longitude])\n",
    "    points_2d = np.column_stack((latitude_values, longitude_values))\n",
    "\n",
    "    # Caminho para salvar o arquivo .npy\n",
    "    file_path = f\"data/2d_uniform_data_{i}.npy\"\n",
    "\n",
    "    # Salvar o array em um arquivo .npy\n",
    "    np.save(file_path, points_2d)\n",
    "\n",
    "    print(f\"Arquivo salvo em: {file_path}\")\n",
    "\n",
    "\n",
    "def delete_file(filepath):\n",
    "    if os.path.exists(filepath):\n",
    "        os.remove(filepath)\n",
    "        print(f\"Deleted file: {filepath}\")\n",
    "    else:\n",
    "        print(f\"File not found: {filepath}\")\n",
    "\n",
    "def delete_directory(directory):\n",
    "    if os.path.exists(directory) and os.path.isdir(directory):\n",
    "        shutil.rmtree(directory)\n",
    "        print(f\"Deleted directory: {directory}\")\n",
    "    else:\n",
    "        print(f\"Directory not found: {directory}\")\n",
    "\n",
    "def delete_matching(pattern):\n",
    "    matches = glob.glob(pattern)\n",
    "    for match in matches:\n",
    "        if os.path.isfile(match):\n",
    "            delete_file(match)\n",
    "        elif os.path.isdir(match):\n",
    "            delete_directory(match)\n",
    "\n",
    "# List of files to delete\n",
    "files_to_delete = [\n",
    "    \"data/cell_params.npy\",\n",
    "    \"data/col_split_idxes.npy\",\n",
    "    \"data/one_dim_mappings.npy\",\n",
    "]\n",
    "\n",
    "# Directories and patterns to delete\n",
    "dirs_to_delete = [\n",
    "    \"data/lattice\",  # Delete all files and folders inside /models\n",
    "    \"data/models/*\",  # Delete all files and folders matching /lattice*\n",
    "    \"../models/*\",  # Delete all files and folders matching /lattice*\n",
    "    \"models/*\"\n",
    "]\n",
    "\n",
    "# Delete specific files\n",
    "for file in files_to_delete:\n",
    "    delete_file(file)\n",
    "\n",
    "# Delete directories and patterns\n",
    "for directory in dirs_to_delete:\n",
    "    delete_matching(directory)\n"
   ]
  },
  {
   "cell_type": "code",
   "execution_count": 7,
   "metadata": {},
   "outputs": [
    {
     "ename": "FileNotFoundError",
     "evalue": "[Errno 2] No such file or directory: '/data/2d_uniform_data_0.npy'",
     "output_type": "error",
     "traceback": [
      "\u001b[1;31m---------------------------------------------------------------------------\u001b[0m",
      "\u001b[1;31mFileNotFoundError\u001b[0m                         Traceback (most recent call last)",
      "Cell \u001b[1;32mIn[7], line 17\u001b[0m\n\u001b[0;32m     14\u001b[0m file_path \u001b[38;5;241m=\u001b[39m \u001b[38;5;124mf\u001b[39m\u001b[38;5;124m\"\u001b[39m\u001b[38;5;124m/data/2d_uniform_data_\u001b[39m\u001b[38;5;132;01m{\u001b[39;00mi\u001b[38;5;132;01m}\u001b[39;00m\u001b[38;5;124m.npy\u001b[39m\u001b[38;5;124m\"\u001b[39m\n\u001b[0;32m     16\u001b[0m \u001b[38;5;66;03m# Salvar o array em um arquivo .npy\u001b[39;00m\n\u001b[1;32m---> 17\u001b[0m \u001b[43mnp\u001b[49m\u001b[38;5;241;43m.\u001b[39;49m\u001b[43msave\u001b[49m\u001b[43m(\u001b[49m\u001b[43mfile_path\u001b[49m\u001b[43m,\u001b[49m\u001b[43m \u001b[49m\u001b[43mpoints_2d\u001b[49m\u001b[43m)\u001b[49m\n\u001b[0;32m     19\u001b[0m \u001b[38;5;28mprint\u001b[39m(\u001b[38;5;124mf\u001b[39m\u001b[38;5;124m\"\u001b[39m\u001b[38;5;124mArquivo salvo em: \u001b[39m\u001b[38;5;132;01m{\u001b[39;00mfile_path\u001b[38;5;132;01m}\u001b[39;00m\u001b[38;5;124m\"\u001b[39m)\n",
      "File \u001b[1;32m~\\AppData\\Local\\Packages\\PythonSoftwareFoundation.Python.3.11_qbz5n2kfra8p0\\LocalCache\\local-packages\\Python311\\site-packages\\numpy\\lib\\npyio.py:542\u001b[0m, in \u001b[0;36msave\u001b[1;34m(file, arr, allow_pickle, fix_imports)\u001b[0m\n\u001b[0;32m    540\u001b[0m     \u001b[38;5;28;01mif\u001b[39;00m \u001b[38;5;129;01mnot\u001b[39;00m file\u001b[38;5;241m.\u001b[39mendswith(\u001b[38;5;124m'\u001b[39m\u001b[38;5;124m.npy\u001b[39m\u001b[38;5;124m'\u001b[39m):\n\u001b[0;32m    541\u001b[0m         file \u001b[38;5;241m=\u001b[39m file \u001b[38;5;241m+\u001b[39m \u001b[38;5;124m'\u001b[39m\u001b[38;5;124m.npy\u001b[39m\u001b[38;5;124m'\u001b[39m\n\u001b[1;32m--> 542\u001b[0m     file_ctx \u001b[38;5;241m=\u001b[39m \u001b[38;5;28mopen\u001b[39m(file, \u001b[38;5;124m\"\u001b[39m\u001b[38;5;124mwb\u001b[39m\u001b[38;5;124m\"\u001b[39m)\n\u001b[0;32m    544\u001b[0m \u001b[38;5;28;01mwith\u001b[39;00m file_ctx \u001b[38;5;28;01mas\u001b[39;00m fid:\n\u001b[0;32m    545\u001b[0m     arr \u001b[38;5;241m=\u001b[39m np\u001b[38;5;241m.\u001b[39masanyarray(arr)\n",
      "\u001b[1;31mFileNotFoundError\u001b[0m: [Errno 2] No such file or directory: '/data/2d_uniform_data_0.npy'"
     ]
    }
   ],
   "source": [
    "import numpy as np\n",
    "\n",
    "for i in range (0,4):\n",
    "    # Configuração\n",
    "    num_points = 57000\n",
    "    latitude_values = np.linspace(10.0, 14000.0, num_points)  # Valores de latitude (entre 10 e 14000)\n",
    "    longitude_values = np.linspace(20.0, 24000.5, num_points)  # Valores de longitude (entre 20 e 24000.5)\n",
    "    longitude_values2 = np.linspace(20.0, 24000.5, num_points)  # Valores de longitude (entre 20 e 24000.5)\n",
    "\n",
    "    # Combinar em um array 2D (cada linha contém [latitude, longitude])\n",
    "    points_2d = np.column_stack((latitude_values, longitude_values, longitude_values2))\n",
    "\n",
    "    # Caminho para salvar o arquivo .npy\n",
    "    file_path = f\"/data/2d_uniform_data_{i}.npy\"\n",
    "\n",
    "    # Salvar o array em um arquivo .npy\n",
    "    np.save(file_path, points_2d)\n",
    "\n",
    "    print(f\"Arquivo salvo em: {file_path}\")\n"
   ]
  },
  {
   "cell_type": "code",
   "execution_count": null,
   "metadata": {},
   "outputs": [
    {
     "name": "stdout",
     "output_type": "stream",
     "text": [
      "[1189.98118998  475.9974755 ]\n",
      "1000000\n"
     ]
    }
   ],
   "source": [
    "# Load the .npy file\n",
    "cell_params = np.load('data/2d_uniform_data_0.npy')\n",
    "\n",
    "# Display the content\n",
    "print(cell_params[9999])\n",
    "print(len(cell_params))"
   ]
  },
  {
   "cell_type": "code",
   "execution_count": null,
   "metadata": {},
   "outputs": [
    {
     "name": "stdout",
     "output_type": "stream",
     "text": [
      "[1.97290559e-01 2.01916612e-01 2.06542666e-01 ... 1.02400000e+03\n",
      " 2.40500000e+02 2.50000000e+00]\n",
      "255491\n"
     ]
    }
   ],
   "source": [
    "import numpy as np\n",
    "\n",
    "# Load the .npy file\n",
    "cell_params = np.load('models/LISA_Init/all_without_addrs.npy')\n",
    "# Display the content\n",
    "print(cell_params)\n",
    "print(len(cell_params))"
   ]
  },
  {
   "cell_type": "code",
   "execution_count": null,
   "metadata": {},
   "outputs": [
    {
     "name": "stdout",
     "output_type": "stream",
     "text": [
      "[  20  100    0 ... 1022 1023 1024]\n",
      "1027\n"
     ]
    }
   ],
   "source": [
    "import numpy as np\n",
    "\n",
    "# Load the .npy file\n",
    "cell_params = np.load('models/LISA_Init/meta_infos.npy')\n",
    "# Display the content\n",
    "print(cell_params)\n",
    "print(len(cell_params))"
   ]
  },
  {
   "cell_type": "code",
   "execution_count": null,
   "metadata": {},
   "outputs": [
    {
     "name": "stdout",
     "output_type": "stream",
     "text": [
      "[[1.00000000e+01 2.00000000e+01]\n",
      " [1.00139900e+01 2.00239805e+01]\n",
      " [1.00279800e+01 2.00479610e+01]\n",
      " ...\n",
      " [1.39999720e+04 2.40004520e+04]\n",
      " [1.39999860e+04 2.40004760e+04]\n",
      " [1.40000000e+04 2.40005000e+04]]\n",
      "1000000\n"
     ]
    }
   ],
   "source": [
    "import numpy as np\n",
    "\n",
    "# Load the .npy file\n",
    "cell_params = np.load('models/LISA_Init/page_data.npy')\n",
    "# Display the content\n",
    "print(cell_params)\n",
    "print(len(cell_params))"
   ]
  },
  {
   "cell_type": "code",
   "execution_count": null,
   "metadata": {},
   "outputs": [
    {
     "name": "stdout",
     "output_type": "stream",
     "text": [
      "[[1.00000000e+01 2.00000000e+01]\n",
      " [1.00139900e+01 2.00239805e+01]\n",
      " [1.00279800e+01 2.00479610e+01]\n",
      " ...\n",
      " [1.39999720e+04 2.40004520e+04]\n",
      " [1.39999860e+04 2.40004760e+04]\n",
      " [1.40000000e+04 2.40005000e+04]]\n",
      "1000000\n"
     ]
    }
   ],
   "source": [
    "import numpy as np\n",
    "\n",
    "# Load the .npy file\n",
    "cell_params = np.load('models/LISA_Init/page_data.npy')\n",
    "# Display the content\n",
    "print(cell_params)\n",
    "print(len(cell_params))"
   ]
  },
  {
   "cell_type": "code",
   "execution_count": null,
   "metadata": {},
   "outputs": [
    {
     "ename": "ModuleNotFoundError",
     "evalue": "No module named 'pandas'",
     "output_type": "error",
     "traceback": [
      "\u001b[1;31m---------------------------------------------------------------------------\u001b[0m",
      "\u001b[1;31mModuleNotFoundError\u001b[0m                       Traceback (most recent call last)",
      "Cell \u001b[1;32mIn[1], line 2\u001b[0m\n\u001b[0;32m      1\u001b[0m \u001b[38;5;28;01mimport\u001b[39;00m\u001b[38;5;250m \u001b[39m\u001b[38;5;21;01mnumpy\u001b[39;00m\u001b[38;5;250m \u001b[39m\u001b[38;5;28;01mas\u001b[39;00m\u001b[38;5;250m \u001b[39m\u001b[38;5;21;01mnp\u001b[39;00m\n\u001b[1;32m----> 2\u001b[0m \u001b[38;5;28;01mimport\u001b[39;00m\u001b[38;5;250m \u001b[39m\u001b[38;5;21;01mpandas\u001b[39;00m\u001b[38;5;250m \u001b[39m\u001b[38;5;28;01mas\u001b[39;00m\u001b[38;5;250m \u001b[39m\u001b[38;5;21;01mpd\u001b[39;00m\n\u001b[0;32m      3\u001b[0m \u001b[38;5;28;01mimport\u001b[39;00m\u001b[38;5;250m \u001b[39m\u001b[38;5;21;01mmatplotlib\u001b[39;00m\u001b[38;5;21;01m.\u001b[39;00m\u001b[38;5;21;01mpyplot\u001b[39;00m\u001b[38;5;250m \u001b[39m\u001b[38;5;28;01mas\u001b[39;00m\u001b[38;5;250m \u001b[39m\u001b[38;5;21;01mplt\u001b[39;00m\n\u001b[0;32m      5\u001b[0m \u001b[38;5;66;03m# Definição dos parâmetros\u001b[39;00m\n",
      "\u001b[1;31mModuleNotFoundError\u001b[0m: No module named 'pandas'"
     ]
    }
   ],
   "source": [
    "import numpy as np\n",
    "import pandas as pd\n",
    "import matplotlib.pyplot as plt\n",
    "\n",
    "# Definição dos parâmetros\n",
    "n = 3  # Número total de cirurgias\n",
    "p = 9/10  # Probabilidade de sucesso\n",
    "q = 1 - p  # Probabilidade de falha\n",
    "\n",
    "# Valores possíveis de x (sucessos)\n",
    "x_values = np.arange(0, n+1)\n",
    "\n",
    "# Cálculo da distribuição binomial\n",
    "probabilidades = binom.pmf(x_values, n, p)\n",
    "\n",
    "# Criando a tabela de distribuição\n",
    "tabela_distribuicao = pd.DataFrame({\n",
    "    \"Número de Sucessos (x)\": x_values,\n",
    "    \"Probabilidade P(X=x)\": probabilidades\n",
    "})"
   ]
  },
  {
   "cell_type": "code",
   "execution_count": null,
   "metadata": {},
   "outputs": [],
   "source": [
    "# Exibindo a tabela\n",
    "import ace_tools as tools  \n",
    "tools.display_dataframe_to_user(name=\"Distribuição Binomial\", dataframe=tabela_distribuicao)\n",
    "\n",
    "# Criando o gráfico de distribuição\n",
    "plt.figure(figsize=(8, 5))\n",
    "plt.bar(x_values, probabilidades, alpha=0.7, edgecolor='black')\n",
    "plt.xlabel(\"Número de Sucessos (x)\")\n",
    "plt.ylabel(\"Probabilidade P(X=x)\")\n",
    "plt.title(\"Distribuição Binomial para n=3, p=0.9\")\n",
    "plt.xticks(x_values)\n",
    "plt.grid(axis='y', linestyle='--', alpha=0.7)\n",
    "\n",
    "# Exibindo o gráfico\n",
    "plt.show()"
   ]
  },
  {
   "cell_type": "code",
   "execution_count": null,
   "metadata": {},
   "outputs": [
    {
     "name": "stdout",
     "output_type": "stream",
     "text": [
      "   Número de Sucessos (x)  Probabilidade P(X=x)\n",
      "0                       0                 0.001\n",
      "1                       1                 0.027\n",
      "2                       2                 0.243\n",
      "3                       3                 0.729\n"
     ]
    }
   ],
   "source": [
    "import numpy as np\n",
    "import pandas as pd\n",
    "import matplotlib.pyplot as plt\n",
    "from scipy.stats import binom\n",
    "\n",
    "# Definição dos parâmetros\n",
    "n = 3  # Número total de cirurgias\n",
    "p = 9/10  # Probabilidade de sucesso\n",
    "q = 1 - p  # Probabilidade de falha\n",
    "\n",
    "# Valores possíveis de x (sucessos)\n",
    "x_values = np.arange(0, n+1)\n",
    "\n",
    "# Cálculo da distribuição binomial\n",
    "probabilidades = binom.pmf(x_values, n, p)\n",
    "\n",
    "# Criando a tabela de distribuição\n",
    "tabela_distribuicao = pd.DataFrame({\n",
    "    \"Número de Sucessos (x)\": x_values,\n",
    "    \"Probabilidade P(X=x)\": probabilidades\n",
    "})\n",
    "\n",
    "# Exibir a tabela no terminal\n",
    "print(tabela_distribuicao)\n"
   ]
  },
  {
   "cell_type": "code",
   "execution_count": null,
   "metadata": {},
   "outputs": [
    {
     "data": {
      "image/png": "[encoded data removed]",
      "text/plain": [
       "<Figure size 800x500 with 1 Axes>"
      ]
     },
     "metadata": {},
     "output_type": "display_data"
    }
   ],
   "source": [
    "\n",
    "# Criando o gráfico de distribuição\n",
    "plt.figure(figsize=(8, 5))\n",
    "plt.bar(x_values, probabilidades, alpha=0.7, edgecolor='black')\n",
    "plt.xlabel(\"Número de Sucessos (x)\")\n",
    "plt.ylabel(\"Probabilidade P(X=x)\")\n",
    "plt.title(\"Distribuição Binomial para n=3, p=0.9\")\n",
    "plt.xticks(x_values)\n",
    "plt.grid(axis='y', linestyle='--', alpha=0.7)\n",
    "\n",
    "# Exibir o gráfico\n",
    "plt.show()\n"
   ]
  }
 ],
 "metadata": {
  "kernelspec": {
   "display_name": "Python 3",
   "language": "python",
   "name": "python3"
  },
  "language_info": {
   "codemirror_mode": {
    "name": "ipython",
    "version": 3
   },
   "file_extension": ".py",
   "mimetype": "text/x-python",
   "name": "python",
   "nbconvert_exporter": "python",
   "pygments_lexer": "ipython3",
   "version": "3.11.9"
  }
 },
 "nbformat": 4,
 "nbformat_minor": 2
}
