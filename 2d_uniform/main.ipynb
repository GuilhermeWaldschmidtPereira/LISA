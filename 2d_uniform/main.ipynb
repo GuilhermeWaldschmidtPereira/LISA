{
 "cells": [
  {
   "cell_type": "code",
   "execution_count": 21,
   "metadata": {},
   "outputs": [
    {
     "name": "stdout",
     "output_type": "stream",
     "text": [
      "Arquivo salvo em: /home/gpereira/workspace/LISA/2d_uniform/data/2d_uniform_data_0.npy\n",
      "Arquivo salvo em: /home/gpereira/workspace/LISA/2d_uniform/data/2d_uniform_data_1.npy\n",
      "Arquivo salvo em: /home/gpereira/workspace/LISA/2d_uniform/data/2d_uniform_data_2.npy\n",
      "Arquivo salvo em: /home/gpereira/workspace/LISA/2d_uniform/data/2d_uniform_data_3.npy\n",
      "Deleted file: /home/gpereira/workspace/LISA/2d_uniform/data/cell_params.npy\n",
      "Deleted file: /home/gpereira/workspace/LISA/2d_uniform/data/col_split_idxes.npy\n",
      "Deleted file: /home/gpereira/workspace/LISA/2d_uniform/data/one_dim_mappings.npy\n",
      "Deleted directory: /home/gpereira/workspace/LISA/2d_uniform/models/piecewise\n"
     ]
    }
   ],
   "source": [
    "import numpy as np\n",
    "import os\n",
    "import glob\n",
    "import shutil\n",
    "\n",
    "\n",
    "# Configuração\n",
    "num_points = 10000*5*10\n",
    "for i in range (0,4):\n",
    "    latitude_values = np.linspace(10.0, 14000.0, num_points)  # Valores de latitude (entre 10 e 14000)\n",
    "    longitude_values = np.linspace(20.0, 24000.5, num_points)  # Valores de longitude (entre 20 e 24000.5)\n",
    "\n",
    "    # Combinar em um array 2D (cada linha contém [latitude, longitude])\n",
    "    points_2d = np.column_stack((latitude_values, longitude_values))\n",
    "\n",
    "    # Caminho para salvar o arquivo .npy\n",
    "    file_path = f\"/home/gpereira/workspace/LISA/2d_uniform/data/2d_uniform_data_{i}.npy\"\n",
    "\n",
    "    # Salvar o array em um arquivo .npy\n",
    "    np.save(file_path, points_2d)\n",
    "\n",
    "    print(f\"Arquivo salvo em: {file_path}\")\n",
    "\n",
    "\n",
    "def delete_file(filepath):\n",
    "    if os.path.exists(filepath):\n",
    "        os.remove(filepath)\n",
    "        print(f\"Deleted file: {filepath}\")\n",
    "    else:\n",
    "        print(f\"File not found: {filepath}\")\n",
    "\n",
    "def delete_directory(directory):\n",
    "    if os.path.exists(directory) and os.path.isdir(directory):\n",
    "        shutil.rmtree(directory)\n",
    "        print(f\"Deleted directory: {directory}\")\n",
    "    else:\n",
    "        print(f\"Directory not found: {directory}\")\n",
    "\n",
    "def delete_matching(pattern):\n",
    "    matches = glob.glob(pattern)\n",
    "    for match in matches:\n",
    "        if os.path.isfile(match):\n",
    "            delete_file(match)\n",
    "        elif os.path.isdir(match):\n",
    "            delete_directory(match)\n",
    "\n",
    "# List of files to delete\n",
    "files_to_delete = [\n",
    "    \"/home/gpereira/workspace/LISA/2d_uniform/data/cell_params.npy\",\n",
    "    \"/home/gpereira/workspace/LISA/2d_uniform/data/col_split_idxes.npy\",\n",
    "    \"/home/gpereira/workspace/LISA/2d_uniform/data/one_dim_mappings.npy\",\n",
    "]\n",
    "\n",
    "# Directories and patterns to delete\n",
    "dirs_to_delete = [\n",
    "    \"/home/gpereira/workspace/LISA/2d_uniform/data/lattice\",  # Delete all files and folders inside /models\n",
    "    \"/home/gpereira/workspace/LISA/2d_uniform/data/models/*\",  # Delete all files and folders matching /lattice*\n",
    "    \"/home/gpereira/workspace/LISA/2d_uniform/models/*\",  # Delete all files and folders matching /lattice*\n",
    "]\n",
    "\n",
    "# Delete specific files\n",
    "for file in files_to_delete:\n",
    "    delete_file(file)\n",
    "\n",
    "# Delete directories and patterns\n",
    "for directory in dirs_to_delete:\n",
    "    delete_matching(directory)\n"
   ]
  },
  {
   "cell_type": "code",
   "execution_count": null,
   "metadata": {},
   "outputs": [],
   "source": [
    "import numpy as np\n",
    "\n",
    "for i in range (0,4):\n",
    "    # Configuração\n",
    "    num_points = 57000\n",
    "    latitude_values = np.linspace(10.0, 14000.0, num_points)  # Valores de latitude (entre 10 e 14000)\n",
    "    longitude_values = np.linspace(20.0, 24000.5, num_points)  # Valores de longitude (entre 20 e 24000.5)\n",
    "    longitude_values2 = np.linspace(20.0, 24000.5, num_points)  # Valores de longitude (entre 20 e 24000.5)\n",
    "\n",
    "    # Combinar em um array 2D (cada linha contém [latitude, longitude])\n",
    "    points_2d = np.column_stack((latitude_values, longitude_values, longitude_values2))\n",
    "\n",
    "    # Caminho para salvar o arquivo .npy\n",
    "    file_path = f\"/home/gpereira/workspace/LISA/3d_uniform/data/3d_uniform_data_{i}.npy\"\n",
    "\n",
    "    # Salvar o array em um arquivo .npy\n",
    "    np.save(file_path, points_2d)\n",
    "\n",
    "    print(f\"Arquivo salvo em: {file_path}\")\n"
   ]
  },
  {
   "cell_type": "code",
   "execution_count": 11,
   "metadata": {},
   "outputs": [
    {
     "name": "stdout",
     "output_type": "stream",
     "text": [
      "[ 68.19956399 126.67893358 185.43810876 ... 900.         240.5\n",
      "   2.5       ]\n",
      "1386\n"
     ]
    }
   ],
   "source": [
    "# Load the .npy file\n",
    "cell_params = np.load('/home/gpereira/workspace/LISA/2d_uniform/data/cell_params.npy')\n",
    "\n",
    "# Display the content\n",
    "print(cell_params)\n",
    "print(len(cell_params))"
   ]
  },
  {
   "cell_type": "code",
   "execution_count": 12,
   "metadata": {},
   "outputs": [
    {
     "name": "stdout",
     "output_type": "stream",
     "text": [
      "1.6300209182532315\n",
      "37031\n"
     ]
    }
   ],
   "source": [
    "import numpy as np\n",
    "\n",
    "# Load the .npy file\n",
    "cell_params = np.load('/home/gpereira/workspace/LISA/2d_uniform/models/LISA_Init/all_without_addrs.npy')\n",
    "# Display the content\n",
    "print(cell_params[0])\n",
    "print(len(cell_params))"
   ]
  },
  {
   "cell_type": "code",
   "execution_count": 16,
   "metadata": {},
   "outputs": [
    {
     "name": "stdout",
     "output_type": "stream",
     "text": [
      "[[1.00000000e+01 2.00000000e+01]\n",
      " [1.13991399e+01 2.23982898e+01]\n",
      " [1.27982798e+01 2.47965797e+01]\n",
      " ...\n",
      " [1.39972017e+04 2.39957034e+04]\n",
      " [1.39986009e+04 2.39981017e+04]\n",
      " [1.40000000e+04 2.40005000e+04]]\n",
      "10000\n"
     ]
    }
   ],
   "source": [
    "import numpy as np\n",
    "\n",
    "# Load the .npy file\n",
    "cell_params = np.load('/home/gpereira/workspace/LISA/2d_uniform/models/LISA_Init/page_data.npy')\n",
    "# Display the content\n",
    "print(cell_params)\n",
    "print(len(cell_params))"
   ]
  }
 ],
 "metadata": {
  "kernelspec": {
   "display_name": "Python 3",
   "language": "python",
   "name": "python3"
  },
  "language_info": {
   "codemirror_mode": {
    "name": "ipython",
    "version": 3
   },
   "file_extension": ".py",
   "mimetype": "text/x-python",
   "name": "python",
   "nbconvert_exporter": "python",
   "pygments_lexer": "ipython3",
   "version": "3.8.10"
  }
 },
 "nbformat": 4,
 "nbformat_minor": 2
}
