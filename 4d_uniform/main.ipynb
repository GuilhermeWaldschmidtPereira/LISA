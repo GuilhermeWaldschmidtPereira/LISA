{
 "cells": [
  {
   "cell_type": "code",
   "execution_count": 2,
   "metadata": {},
   "outputs": [],
   "source": [
    "import pandas as pd\n",
    "import numpy as np"
   ]
  },
  {
   "cell_type": "code",
   "execution_count": 3,
   "metadata": {},
   "outputs": [
    {
     "data": {
      "text/html": [
       "<div>\n",
       "<style scoped>\n",
       "    .dataframe tbody tr th:only-of-type {\n",
       "        vertical-align: middle;\n",
       "    }\n",
       "\n",
       "    .dataframe tbody tr th {\n",
       "        vertical-align: top;\n",
       "    }\n",
       "\n",
       "    .dataframe thead th {\n",
       "        text-align: right;\n",
       "    }\n",
       "</style>\n",
       "<table border=\"1\" class=\"dataframe\">\n",
       "  <thead>\n",
       "    <tr style=\"text-align: right;\">\n",
       "      <th></th>\n",
       "      <th>nome</th>\n",
       "      <th>responsavel_familia</th>\n",
       "      <th>cod_mun_residencia</th>\n",
       "      <th>data_nascimento</th>\n",
       "      <th>embedding_nome</th>\n",
       "      <th>embedding_glove</th>\n",
       "      <th>pca_embedding</th>\n",
       "      <th>quantized_embedding</th>\n",
       "      <th>flatten_embedding</th>\n",
       "    </tr>\n",
       "  </thead>\n",
       "  <tbody>\n",
       "    <tr>\n",
       "      <th>0</th>\n",
       "      <td>Leonardo Moreira</td>\n",
       "      <td>Sr. Yuri Lopes</td>\n",
       "      <td>1183810</td>\n",
       "      <td>1993-03-31</td>\n",
       "      <td>[ 2.18599230e-01 -7.58356005e-02 -4.90158461e-...</td>\n",
       "      <td>[0.71378245 0.89966745 0.62410154 0.53978106 0...</td>\n",
       "      <td>[ 9.551065  -1.2050222 -3.1208887 -7.169172 ]</td>\n",
       "      <td>[33.44384  26.100296 26.213354 24.274254 30.44...</td>\n",
       "      <td>[ 2.18599230e-01 -7.58356005e-02 -4.90158461e-...</td>\n",
       "    </tr>\n",
       "    <tr>\n",
       "      <th>1</th>\n",
       "      <td>Dr. Renan Teixeira</td>\n",
       "      <td>Dr. Enzo Gabriel Gonçalves</td>\n",
       "      <td>1114592</td>\n",
       "      <td>1952-05-10</td>\n",
       "      <td>[ 1.24961533e-01 -5.15023023e-02 -1.98868617e-...</td>\n",
       "      <td>[5.72427759e-01 8.03976979e-01 5.38401490e-01 ...</td>\n",
       "      <td>[-7.943754   7.273386  12.300829  -2.6324155]</td>\n",
       "      <td>[29.984928 31.632963 28.560999 36.34092  23.57...</td>\n",
       "      <td>[ 0.12496153 -0.0515023  -0.19886862 -0.284743...</td>\n",
       "    </tr>\n",
       "    <tr>\n",
       "      <th>2</th>\n",
       "      <td>Ana Barbosa</td>\n",
       "      <td>Matheus Pinto</td>\n",
       "      <td>1103278</td>\n",
       "      <td>1964-10-04</td>\n",
       "      <td>[-1.16234489e-01 -2.24409655e-01  1.70126259e-...</td>\n",
       "      <td>[0.41839979 0.20357828 0.84045241 0.17419334 0...</td>\n",
       "      <td>[ 1.4163324 11.611785  -5.343581  -1.7225094]</td>\n",
       "      <td>[31.18017  25.557089 23.640009 31.593952 30.46...</td>\n",
       "      <td>[-0.11623449 -0.22440965  0.17012626 -0.209530...</td>\n",
       "    </tr>\n",
       "    <tr>\n",
       "      <th>3</th>\n",
       "      <td>Valentina Barbosa</td>\n",
       "      <td>Leonardo Moreira</td>\n",
       "      <td>1197196</td>\n",
       "      <td>2009-01-26</td>\n",
       "      <td>[-1.63725361e-01 -2.16109723e-01  2.83816606e-...</td>\n",
       "      <td>[7.37180225e-01 7.68599805e-01 2.43656716e-01 ...</td>\n",
       "      <td>[ 3.8417327  13.332625   -5.441139   -0.72329396]</td>\n",
       "      <td>[34.887444 27.409266 26.65392  33.802563 33.12...</td>\n",
       "      <td>[-0.16372536 -0.21610972  0.2838166  -0.111494...</td>\n",
       "    </tr>\n",
       "    <tr>\n",
       "      <th>4</th>\n",
       "      <td>Dra. Ana Freitas</td>\n",
       "      <td>Breno da Rosa</td>\n",
       "      <td>1136048</td>\n",
       "      <td>1982-10-04</td>\n",
       "      <td>[-7.93004185e-02 -7.86944106e-02  2.85201311e-...</td>\n",
       "      <td>[6.36490651e-01 1.48999736e-01 6.95415648e-01 ...</td>\n",
       "      <td>[-0.8479225  7.2589808 14.073265   4.7253227]</td>\n",
       "      <td>[30.773624 26.795256 25.917747 31.86306  19.99...</td>\n",
       "      <td>[-0.07930042 -0.07869441  0.2852013  -0.038671...</td>\n",
       "    </tr>\n",
       "  </tbody>\n",
       "</table>\n",
       "</div>"
      ],
      "text/plain": [
       "                 nome         responsavel_familia  cod_mun_residencia  \\\n",
       "0    Leonardo Moreira              Sr. Yuri Lopes             1183810   \n",
       "1  Dr. Renan Teixeira  Dr. Enzo Gabriel Gonçalves             1114592   \n",
       "2         Ana Barbosa               Matheus Pinto             1103278   \n",
       "3   Valentina Barbosa            Leonardo Moreira             1197196   \n",
       "4    Dra. Ana Freitas               Breno da Rosa             1136048   \n",
       "\n",
       "  data_nascimento                                     embedding_nome  \\\n",
       "0      1993-03-31  [ 2.18599230e-01 -7.58356005e-02 -4.90158461e-...   \n",
       "1      1952-05-10  [ 1.24961533e-01 -5.15023023e-02 -1.98868617e-...   \n",
       "2      1964-10-04  [-1.16234489e-01 -2.24409655e-01  1.70126259e-...   \n",
       "3      2009-01-26  [-1.63725361e-01 -2.16109723e-01  2.83816606e-...   \n",
       "4      1982-10-04  [-7.93004185e-02 -7.86944106e-02  2.85201311e-...   \n",
       "\n",
       "                                     embedding_glove  \\\n",
       "0  [0.71378245 0.89966745 0.62410154 0.53978106 0...   \n",
       "1  [5.72427759e-01 8.03976979e-01 5.38401490e-01 ...   \n",
       "2  [0.41839979 0.20357828 0.84045241 0.17419334 0...   \n",
       "3  [7.37180225e-01 7.68599805e-01 2.43656716e-01 ...   \n",
       "4  [6.36490651e-01 1.48999736e-01 6.95415648e-01 ...   \n",
       "\n",
       "                                       pca_embedding  \\\n",
       "0      [ 9.551065  -1.2050222 -3.1208887 -7.169172 ]   \n",
       "1      [-7.943754   7.273386  12.300829  -2.6324155]   \n",
       "2      [ 1.4163324 11.611785  -5.343581  -1.7225094]   \n",
       "3  [ 3.8417327  13.332625   -5.441139   -0.72329396]   \n",
       "4      [-0.8479225  7.2589808 14.073265   4.7253227]   \n",
       "\n",
       "                                 quantized_embedding  \\\n",
       "0  [33.44384  26.100296 26.213354 24.274254 30.44...   \n",
       "1  [29.984928 31.632963 28.560999 36.34092  23.57...   \n",
       "2  [31.18017  25.557089 23.640009 31.593952 30.46...   \n",
       "3  [34.887444 27.409266 26.65392  33.802563 33.12...   \n",
       "4  [30.773624 26.795256 25.917747 31.86306  19.99...   \n",
       "\n",
       "                                   flatten_embedding  \n",
       "0  [ 2.18599230e-01 -7.58356005e-02 -4.90158461e-...  \n",
       "1  [ 0.12496153 -0.0515023  -0.19886862 -0.284743...  \n",
       "2  [-0.11623449 -0.22440965  0.17012626 -0.209530...  \n",
       "3  [-0.16372536 -0.21610972  0.2838166  -0.111494...  \n",
       "4  [-0.07930042 -0.07869441  0.2852013  -0.038671...  "
      ]
     },
     "execution_count": 3,
     "metadata": {},
     "output_type": "execute_result"
    }
   ],
   "source": [
    "df = pd.read_csv('base_dicionario_1000_registros_com_embs.csv', sep=';')\n",
    "df.head()"
   ]
  },
  {
   "cell_type": "code",
   "execution_count": null,
   "metadata": {},
   "outputs": [],
   "source": [
    "np.save('data/4d_uniform_data_0.npy', pca_embedding)\n",
    "np.save('data/4d_uniform_data_1.npy', pca_embedding)\n",
    "np.save('data/4d_uniform_data_2.npy', pca_embedding)\n",
    "np.save('data/4d_uniform_data_3.npy', pca_embedding)"
   ]
  },
  {
   "cell_type": "code",
   "execution_count": 39,
   "metadata": {},
   "outputs": [
    {
     "name": "stdout",
     "output_type": "stream",
     "text": [
      "Deleted file: data/cell_params.npy\n",
      "Deleted file: data/col_split_idxes.npy\n",
      "Deleted file: data/one_dim_mappings.npy\n",
      "Deleted directory: models\\LISA_Init\n",
      "Deleted directory: models\\piecewise\n"
     ]
    }
   ],
   "source": [
    "import numpy as np\n",
    "import os\n",
    "import glob\n",
    "import shutil\n",
    "\n",
    "def delete_file(filepath):\n",
    "    if os.path.exists(filepath):\n",
    "        os.remove(filepath)\n",
    "        print(f\"Deleted file: {filepath}\")\n",
    "    else:\n",
    "        print(f\"File not found: {filepath}\")\n",
    "\n",
    "def delete_directory(directory):\n",
    "    if os.path.exists(directory) and os.path.isdir(directory):\n",
    "        shutil.rmtree(directory)\n",
    "        print(f\"Deleted directory: {directory}\")\n",
    "    else:\n",
    "        print(f\"Directory not found: {directory}\")\n",
    "\n",
    "def delete_matching(pattern):\n",
    "    matches = glob.glob(pattern)\n",
    "    for match in matches:\n",
    "        if os.path.isfile(match):\n",
    "            delete_file(match)\n",
    "        elif os.path.isdir(match):\n",
    "            delete_directory(match)\n",
    "\n",
    "# List of files to delete\n",
    "files_to_delete = [\n",
    "    \"data/cell_params.npy\",\n",
    "    \"data/col_split_idxes.npy\",\n",
    "    \"data/one_dim_mappings.npy\",\n",
    "]\n",
    "\n",
    "# Directories and patterns to delete\n",
    "dirs_to_delete = [\n",
    "    \"data/lattice\",  # Delete all files and folders inside /models\n",
    "    \"data/models/*\",  # Delete all files and folders matching /lattice*\n",
    "    \"../models/*\",  # Delete all files and folders matching /lattice*\n",
    "    \"models/*\"\n",
    "]\n",
    "\n",
    "# Delete specific files\n",
    "for file in files_to_delete:\n",
    "    delete_file(file)\n",
    "\n",
    "# Delete directories and patterns\n",
    "for directory in dirs_to_delete:\n",
    "    delete_matching(directory)\n"
   ]
  },
  {
   "cell_type": "code",
   "execution_count": 5,
   "metadata": {},
   "outputs": [],
   "source": [
    "array = np.load('data/cell_params.npy')"
   ]
  },
  {
   "cell_type": "code",
   "execution_count": 37,
   "metadata": {},
   "outputs": [
    {
     "data": {
      "text/plain": [
       "array([[-13.30404377,  -9.81421471,  -7.24414539,   5.68555737],\n",
       "       [-17.93493843,  -9.7832489 ,  -6.09946918,   1.16670525],\n",
       "       [-17.53307533, -10.22579956,  -5.85762453,  -0.25934681],\n",
       "       ...,\n",
       "       [ 12.09508324,   6.26789761,  -1.74728537,   9.05739403],\n",
       "       [ 12.13593864,   6.18341351,   2.12046695,  -3.40251255],\n",
       "       [ 12.60841274,   4.19495726,   1.16137433,  -2.93998981]])"
      ]
     },
     "execution_count": 37,
     "metadata": {},
     "output_type": "execute_result"
    }
   ],
   "source": [
    "array_2 = np.load('models/LISA_Init/page_data.npy')\n",
    "array_2"
   ]
  },
  {
   "cell_type": "code",
   "execution_count": null,
   "metadata": {},
   "outputs": [
    {
     "data": {
      "text/plain": [
       "array([[-13.30404377,  -9.81421471,  -7.24414539,   5.68555737],\n",
       "       [-17.93493843,  -9.7832489 ,  -6.09946918,   1.16670525],\n",
       "       [-17.53307533, -10.22579956,  -5.85762453,  -0.25934681],\n",
       "       ...,\n",
       "       [ 12.09508324,   6.26789761,  -1.74728537,   9.05739403],\n",
       "       [ 12.13593864,   6.18341351,   2.12046695,  -3.40251255],\n",
       "       [ 12.60841274,   4.19495726,   1.16137433,  -2.93998981]])"
      ]
     },
     "execution_count": 5,
     "metadata": {},
     "output_type": "execute_result"
    }
   ],
   "source": [
    "array_2"
   ]
  },
  {
   "cell_type": "code",
   "execution_count": null,
   "metadata": {},
   "outputs": [
    {
     "name": "stdout",
     "output_type": "stream",
     "text": [
      "Menor valor: -15.312671661376953\n",
      "Maior valor: 10000.0\n"
     ]
    }
   ],
   "source": [
    "menor_valor = np.min(array)\n",
    "maior_valor = np.max(array)\n",
    "\n",
    "print(f\"Menor valor: {menor_valor}\")\n",
    "print(f\"Maior valor: {maior_valor}\")"
   ]
  }
 ],
 "metadata": {
  "kernelspec": {
   "display_name": "Python 3",
   "language": "python",
   "name": "python3"
  },
  "language_info": {
   "codemirror_mode": {
    "name": "ipython",
    "version": 3
   },
   "file_extension": ".py",
   "mimetype": "text/x-python",
   "name": "python",
   "nbconvert_exporter": "python",
   "pygments_lexer": "ipython3",
   "version": "3.11.9"
  }
 },
 "nbformat": 4,
 "nbformat_minor": 2
}
